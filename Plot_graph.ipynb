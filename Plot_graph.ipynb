{
 "cells": [
  {
   "cell_type": "code",
   "execution_count": null,
   "metadata": {
    "collapsed": true
   },
   "outputs": [],
   "source": [
    "import matplotlib.pyplot as plt; plt.rcdefaults()\n",
    "import numpy as np\n",
    "import matplotlib.pyplot as plt\n",
    "def plot_chart(dic):\n",
    "    for key in dic:\n",
    "        objects = range(1,13)\n",
    "        y_pos = np.arange(len(objects))\n",
    "        percentage = []\n",
    "        for i in xrange(1,13):\n",
    "            if i in dic[key]:\n",
    "                client_month=len(dic[key][i])\n",
    "            per_month=float(client_month)/client\n",
    "            percentage.append(per_month)\n",
    "\n",
    "        plt.bar(y_pos, percentage, align='center', alpha=0.5)\n",
    "        plt.xticks(y_pos, objects)\n",
    "        plt.ylabel('Percentage of Clients')\n",
    "        plt.title(str(key))\n",
    "\n",
    "        plt.show()"
   ]
  },
  {
   "cell_type": "code",
   "execution_count": null,
   "metadata": {
    "collapsed": true
   },
   "outputs": [],
   "source": [
    "plot_chart(visit)"
   ]
  }
 ],
 "metadata": {
  "kernelspec": {
   "display_name": "Python 2",
   "language": "python",
   "name": "python2"
  },
  "language_info": {
   "codemirror_mode": {
    "name": "ipython",
    "version": 2
   },
   "file_extension": ".py",
   "mimetype": "text/x-python",
   "name": "python",
   "nbconvert_exporter": "python",
   "pygments_lexer": "ipython2",
   "version": "2.7.13"
  }
 },
 "nbformat": 4,
 "nbformat_minor": 2
}
